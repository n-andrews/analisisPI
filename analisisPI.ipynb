{
 "cells": [
  {
   "cell_type": "code",
   "execution_count": 111,
   "metadata": {},
   "outputs": [
    {
     "data": {
      "text/plain": [
       "' \\nv1\\nEmol 0\\nReddit 2\\nYoutube 4\\nTwitter 6\\nTelegram 8\\n'"
      ]
     },
     "execution_count": 111,
     "metadata": {},
     "output_type": "execute_result"
    }
   ],
   "source": [
    "# \n",
    "\n",
    "# Importar librerías, nombres archivo.\n",
    "import numpy as np\n",
    "import pandas as pd\n",
    "import matplotlib.pyplot as plt\n",
    "import math\n",
    "sources = ['emol1', 'emol2','reddit1', 'reddit2','youtube1', 'youtube2','twitter1', 'twitter2','telegram1', 'telegram2']\n",
    "\"\"\" \n",
    "lugares v1\n",
    "Emol 0\n",
    "Reddit 2\n",
    "Youtube 4\n",
    "Twitter 6\n",
    "Telegram 8\n",
    "\"\"\""
   ]
  },
  {
   "cell_type": "markdown",
   "metadata": {},
   "source": [
    "### Procesar y exportar la información."
   ]
  },
  {
   "cell_type": "code",
   "execution_count": 149,
   "metadata": {},
   "outputs": [],
   "source": [
    "#valor_csv = 0\n",
    "df_list = []\n",
    "for valor_csv in range(len(sources)):\n",
    "    # Se saca el 'content' porque no es necesario y estorba\n",
    "    df = pd.read_csv(\"csv/\"+sources[valor_csv]+\".csv\")\n",
    "    df = df.drop(columns=['content'])\n",
    "    # Obtener IQR para determinar outliers\n",
    "    Q1 = df.quantile(0.25)\n",
    "    Q3 = df.quantile(0.75)\n",
    "    IQR = Q3 - Q1\n",
    "    # Agregar datos\n",
    "    fuente = [sources[valor_csv]] * 20\n",
    "    n_datos = [len(df)]*20\n",
    "    df_max = pd.DataFrame(zip(n_datos, fuente, df.columns, (df > (Q3 + 1.5 * IQR)).sum(), (df > (Q3 + 1.5 * IQR)).sum()/df.count(), (Q3+1.5*IQR), df.max()), columns=['n_datos','fuente','factor','outlierCount','outlier%','maxIQR','maximo'])\n",
    "    df_list.append(df_max)\n",
    "df_list = pd.concat(df_list)\n",
    "\n",
    "# Exportar\n",
    "df_list.to_excel(\"maximos.xlsx\")"
   ]
  },
  {
   "cell_type": "markdown",
   "metadata": {},
   "source": [
    "### Calculo de errores muestrales"
   ]
  },
  {
   "cell_type": "code",
   "execution_count": 103,
   "metadata": {},
   "outputs": [
    {
     "name": "stdout",
     "output_type": "stream",
     "text": [
      "csv/emol1.csv : 0.054586609831362085\n",
      "csv/emol2.csv : 0.007962951539881573\n",
      "csv/reddit1.csv : 0.061222402781263396\n",
      "csv/reddit2.csv : 0.007597502073075413\n",
      "csv/youtube1.csv : 0.036977715786044245\n",
      "csv/youtube2.csv : 0.004847013980797479\n",
      "csv/twitter1.csv : 0.043671211283336016\n",
      "csv/twitter2.csv : 0.011088506190197408\n",
      "csv/telegram1.csv : 0.022273183292712224\n",
      "csv/telegram2.csv : 0.0\n"
     ]
    }
   ],
   "source": [
    "z_score = 1.96 # Z score con un alfa de 0.05, 2 colas\n",
    "iqr_b = 0\n",
    "for i in range(len(sources)):\n",
    "    df_err = pd.read_csv(sources[i])\n",
    "    if(iqr_b):\n",
    "        Q1 = df_err.quantile(0.25)\n",
    "        Q3 = df_err.quantile(0.75)\n",
    "        IQR = Q3 - Q1\n",
    "        std = IQR\n",
    "    else:\n",
    "        std = df_err.std()\n",
    "    sample_error = z_score * std.mean() / math.sqrt(len(df))\n",
    "    print(\"{0}\\t{1}\".format(sources[i], sample_error))"
   ]
  },
  {
   "cell_type": "markdown",
   "metadata": {},
   "source": []
  },
  {
   "cell_type": "code",
   "execution_count": 123,
   "metadata": {},
   "outputs": [
    {
     "data": {
      "text/plain": [
       "{'whiskers': [<matplotlib.lines.Line2D at 0x1d3bb354a00>,\n",
       "  <matplotlib.lines.Line2D at 0x1d3bb354f70>,\n",
       "  <matplotlib.lines.Line2D at 0x1d3bbbc4a00>,\n",
       "  <matplotlib.lines.Line2D at 0x1d3bb86ee20>,\n",
       "  <matplotlib.lines.Line2D at 0x1d3bb380e50>,\n",
       "  <matplotlib.lines.Line2D at 0x1d3bb3807c0>,\n",
       "  <matplotlib.lines.Line2D at 0x1d3bbbdb130>,\n",
       "  <matplotlib.lines.Line2D at 0x1d3bbbdb4f0>,\n",
       "  <matplotlib.lines.Line2D at 0x1d3bbbdf910>,\n",
       "  <matplotlib.lines.Line2D at 0x1d3bb801c70>,\n",
       "  <matplotlib.lines.Line2D at 0x1d3baeeeee0>,\n",
       "  <matplotlib.lines.Line2D at 0x1d3baeee310>,\n",
       "  <matplotlib.lines.Line2D at 0x1d3bb7fc160>,\n",
       "  <matplotlib.lines.Line2D at 0x1d3bb7fa2b0>,\n",
       "  <matplotlib.lines.Line2D at 0x1d3baef45b0>,\n",
       "  <matplotlib.lines.Line2D at 0x1d3baef4fa0>,\n",
       "  <matplotlib.lines.Line2D at 0x1d3baef31f0>,\n",
       "  <matplotlib.lines.Line2D at 0x1d3baef19d0>,\n",
       "  <matplotlib.lines.Line2D at 0x1d3bb2f4a00>,\n",
       "  <matplotlib.lines.Line2D at 0x1d3bb2f40d0>,\n",
       "  <matplotlib.lines.Line2D at 0x1d3baef04c0>,\n",
       "  <matplotlib.lines.Line2D at 0x1d3baef05e0>,\n",
       "  <matplotlib.lines.Line2D at 0x1d3b9e2d100>,\n",
       "  <matplotlib.lines.Line2D at 0x1d3bb812fa0>,\n",
       "  <matplotlib.lines.Line2D at 0x1d3baed6d00>,\n",
       "  <matplotlib.lines.Line2D at 0x1d3ba47eeb0>,\n",
       "  <matplotlib.lines.Line2D at 0x1d3bbbb09a0>,\n",
       "  <matplotlib.lines.Line2D at 0x1d3bbbb0d00>,\n",
       "  <matplotlib.lines.Line2D at 0x1d3bb3461c0>,\n",
       "  <matplotlib.lines.Line2D at 0x1d3bb346520>,\n",
       "  <matplotlib.lines.Line2D at 0x1d3bb33e9d0>,\n",
       "  <matplotlib.lines.Line2D at 0x1d3bb33ed30>,\n",
       "  <matplotlib.lines.Line2D at 0x1d3bba8c1f0>,\n",
       "  <matplotlib.lines.Line2D at 0x1d3bba8c550>,\n",
       "  <matplotlib.lines.Line2D at 0x1d3bba9e9d0>,\n",
       "  <matplotlib.lines.Line2D at 0x1d3bba9ed30>,\n",
       "  <matplotlib.lines.Line2D at 0x1d3bba8e1f0>,\n",
       "  <matplotlib.lines.Line2D at 0x1d3bba8e550>,\n",
       "  <matplotlib.lines.Line2D at 0x1d3bba919d0>,\n",
       "  <matplotlib.lines.Line2D at 0x1d3bba91d30>],\n",
       " 'caps': [<matplotlib.lines.Line2D at 0x1d3bb3747c0>,\n",
       "  <matplotlib.lines.Line2D at 0x1d3bb374e80>,\n",
       "  <matplotlib.lines.Line2D at 0x1d3bb570250>,\n",
       "  <matplotlib.lines.Line2D at 0x1d3bb56c0a0>,\n",
       "  <matplotlib.lines.Line2D at 0x1d3bb38c1f0>,\n",
       "  <matplotlib.lines.Line2D at 0x1d3bb38c850>,\n",
       "  <matplotlib.lines.Line2D at 0x1d3bbbdb850>,\n",
       "  <matplotlib.lines.Line2D at 0x1d3bb57dfa0>,\n",
       "  <matplotlib.lines.Line2D at 0x1d3b61f74c0>,\n",
       "  <matplotlib.lines.Line2D at 0x1d3b9e5ea00>,\n",
       "  <matplotlib.lines.Line2D at 0x1d3baeed220>,\n",
       "  <matplotlib.lines.Line2D at 0x1d3bb7e2a90>,\n",
       "  <matplotlib.lines.Line2D at 0x1d3bb7faa00>,\n",
       "  <matplotlib.lines.Line2D at 0x1d3bb7fa460>,\n",
       "  <matplotlib.lines.Line2D at 0x1d3baef4880>,\n",
       "  <matplotlib.lines.Line2D at 0x1d3baef4100>,\n",
       "  <matplotlib.lines.Line2D at 0x1d3baef1f70>,\n",
       "  <matplotlib.lines.Line2D at 0x1d3baef1a90>,\n",
       "  <matplotlib.lines.Line2D at 0x1d3bb2ed910>,\n",
       "  <matplotlib.lines.Line2D at 0x1d3bb2edb20>,\n",
       "  <matplotlib.lines.Line2D at 0x1d3b9e41880>,\n",
       "  <matplotlib.lines.Line2D at 0x1d3bb8166d0>,\n",
       "  <matplotlib.lines.Line2D at 0x1d3bb812310>,\n",
       "  <matplotlib.lines.Line2D at 0x1d3bb01ebe0>,\n",
       "  <matplotlib.lines.Line2D at 0x1d3b9e6c700>,\n",
       "  <matplotlib.lines.Line2D at 0x1d3b9e088b0>,\n",
       "  <matplotlib.lines.Line2D at 0x1d3bb3190a0>,\n",
       "  <matplotlib.lines.Line2D at 0x1d3bb319400>,\n",
       "  <matplotlib.lines.Line2D at 0x1d3bb346880>,\n",
       "  <matplotlib.lines.Line2D at 0x1d3bb346be0>,\n",
       "  <matplotlib.lines.Line2D at 0x1d3bb3340d0>,\n",
       "  <matplotlib.lines.Line2D at 0x1d3bb334430>,\n",
       "  <matplotlib.lines.Line2D at 0x1d3bba8c8b0>,\n",
       "  <matplotlib.lines.Line2D at 0x1d3bba8cc10>,\n",
       "  <matplotlib.lines.Line2D at 0x1d3bba700d0>,\n",
       "  <matplotlib.lines.Line2D at 0x1d3bba70430>,\n",
       "  <matplotlib.lines.Line2D at 0x1d3bba8e8b0>,\n",
       "  <matplotlib.lines.Line2D at 0x1d3bba8ec10>,\n",
       "  <matplotlib.lines.Line2D at 0x1d3bb9010d0>,\n",
       "  <matplotlib.lines.Line2D at 0x1d3bb901430>],\n",
       " 'boxes': [<matplotlib.lines.Line2D at 0x1d3bb354340>,\n",
       "  <matplotlib.lines.Line2D at 0x1d3bbbc4340>,\n",
       "  <matplotlib.lines.Line2D at 0x1d3bb56ce80>,\n",
       "  <matplotlib.lines.Line2D at 0x1d3bbbaf9a0>,\n",
       "  <matplotlib.lines.Line2D at 0x1d3bbbdf5e0>,\n",
       "  <matplotlib.lines.Line2D at 0x1d3baee98e0>,\n",
       "  <matplotlib.lines.Line2D at 0x1d3bb7fc520>,\n",
       "  <matplotlib.lines.Line2D at 0x1d3baef6220>,\n",
       "  <matplotlib.lines.Line2D at 0x1d3baef3580>,\n",
       "  <matplotlib.lines.Line2D at 0x1d3bb2f4fa0>,\n",
       "  <matplotlib.lines.Line2D at 0x1d3baef0e50>,\n",
       "  <matplotlib.lines.Line2D at 0x1d3b9e26dc0>,\n",
       "  <matplotlib.lines.Line2D at 0x1d3baed6340>,\n",
       "  <matplotlib.lines.Line2D at 0x1d3bbbb0640>,\n",
       "  <matplotlib.lines.Line2D at 0x1d3bb319e20>,\n",
       "  <matplotlib.lines.Line2D at 0x1d3bb33e670>,\n",
       "  <matplotlib.lines.Line2D at 0x1d3bb334e50>,\n",
       "  <matplotlib.lines.Line2D at 0x1d3bba9e670>,\n",
       "  <matplotlib.lines.Line2D at 0x1d3bba70e50>,\n",
       "  <matplotlib.lines.Line2D at 0x1d3bba91670>],\n",
       " 'medians': [<matplotlib.lines.Line2D at 0x1d3bb385580>,\n",
       "  <matplotlib.lines.Line2D at 0x1d3bb56c850>,\n",
       "  <matplotlib.lines.Line2D at 0x1d3bb38c310>,\n",
       "  <matplotlib.lines.Line2D at 0x1d3bbbd03a0>,\n",
       "  <matplotlib.lines.Line2D at 0x1d3bb585310>,\n",
       "  <matplotlib.lines.Line2D at 0x1d3bb7e20d0>,\n",
       "  <matplotlib.lines.Line2D at 0x1d3baef6fd0>,\n",
       "  <matplotlib.lines.Line2D at 0x1d3baef3910>,\n",
       "  <matplotlib.lines.Line2D at 0x1d3baef1400>,\n",
       "  <matplotlib.lines.Line2D at 0x1d3bb2ed850>,\n",
       "  <matplotlib.lines.Line2D at 0x1d3bb816a00>,\n",
       "  <matplotlib.lines.Line2D at 0x1d3bb01e400>,\n",
       "  <matplotlib.lines.Line2D at 0x1d3b61ef040>,\n",
       "  <matplotlib.lines.Line2D at 0x1d3bb319760>,\n",
       "  <matplotlib.lines.Line2D at 0x1d3bb346f70>,\n",
       "  <matplotlib.lines.Line2D at 0x1d3bb334790>,\n",
       "  <matplotlib.lines.Line2D at 0x1d3bba8cf70>,\n",
       "  <matplotlib.lines.Line2D at 0x1d3bba70790>,\n",
       "  <matplotlib.lines.Line2D at 0x1d3bba8ef70>,\n",
       "  <matplotlib.lines.Line2D at 0x1d3bb901790>],\n",
       " 'fliers': [<matplotlib.lines.Line2D at 0x1d3bb385c40>,\n",
       "  <matplotlib.lines.Line2D at 0x1d3bb56c190>,\n",
       "  <matplotlib.lines.Line2D at 0x1d3bbbaf340>,\n",
       "  <matplotlib.lines.Line2D at 0x1d3bbbd0f40>,\n",
       "  <matplotlib.lines.Line2D at 0x1d3baee79a0>,\n",
       "  <matplotlib.lines.Line2D at 0x1d3bb7fc5e0>,\n",
       "  <matplotlib.lines.Line2D at 0x1d3baef61c0>,\n",
       "  <matplotlib.lines.Line2D at 0x1d3baef3fd0>,\n",
       "  <matplotlib.lines.Line2D at 0x1d3bb2f4a30>,\n",
       "  <matplotlib.lines.Line2D at 0x1d3bb2ed3a0>,\n",
       "  <matplotlib.lines.Line2D at 0x1d3b9e46a00>,\n",
       "  <matplotlib.lines.Line2D at 0x1d3baed6a30>,\n",
       "  <matplotlib.lines.Line2D at 0x1d3b9e82160>,\n",
       "  <matplotlib.lines.Line2D at 0x1d3bb319ac0>,\n",
       "  <matplotlib.lines.Line2D at 0x1d3bb33e310>,\n",
       "  <matplotlib.lines.Line2D at 0x1d3bb334af0>,\n",
       "  <matplotlib.lines.Line2D at 0x1d3bba9e310>,\n",
       "  <matplotlib.lines.Line2D at 0x1d3bba70af0>,\n",
       "  <matplotlib.lines.Line2D at 0x1d3bba91310>,\n",
       "  <matplotlib.lines.Line2D at 0x1d3bb901af0>],\n",
       " 'means': []}"
      ]
     },
     "execution_count": 123,
     "metadata": {},
     "output_type": "execute_result"
    },
    {
     "data": {
      "image/png": "[encoded data removed]",
      "text/plain": [
       "<Figure size 432x288 with 1 Axes>"
      ]
     },
     "metadata": {
      "needs_background": "light"
     },
     "output_type": "display_data"
    }
   ],
   "source": [
    "# TEST - Cargar datos y procesarlos - Leer comment de [0]\n",
    "valor_csv = 4\n",
    "df = pd.read_csv(\"csv/\"+sources[valor_csv]+\".csv\")\n",
    "df = df.drop(columns=['content'])\n",
    "plt.boxplot(df)"
   ]
  }
 ],
 "metadata": {
  "kernelspec": {
   "display_name": "Python 3",
   "language": "python",
   "name": "python3"
  },
  "language_info": {
   "codemirror_mode": {
    "name": "ipython",
    "version": 3
   },
   "file_extension": ".py",
   "mimetype": "text/x-python",
   "name": "python",
   "nbconvert_exporter": "python",
   "pygments_lexer": "ipython3",
   "version": "3.8.6"
  }
 },
 "nbformat": 4,
 "nbformat_minor": 4
}
