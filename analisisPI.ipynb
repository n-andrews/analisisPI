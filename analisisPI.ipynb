{
 "cells": [
  {
   "cell_type": "code",
   "execution_count": 2,
   "metadata": {},
   "outputs": [
    {
     "data": {
      "text/plain": [
       "' \\nlugares v1\\nEmol 0\\nReddit 2\\nYoutube 4\\nTwitter 6\\nTelegram 8\\n'"
      ]
     },
     "execution_count": 2,
     "metadata": {},
     "output_type": "execute_result"
    }
   ],
   "source": [
    "# \n",
    "\n",
    "# Importar librerías, nombres archivo.\n",
    "import numpy as np\n",
    "import pandas as pd\n",
    "import matplotlib.pyplot as plt\n",
    "import math\n",
    "sources = ['emol1', 'emol2','reddit1', 'reddit2','youtube1', 'youtube2','twitter1', 'twitter2','telegram1', 'telegram2']\n",
    "\"\"\" \n",
    "lugares v1\n",
    "Emol 0\n",
    "Reddit 2\n",
    "Youtube 4\n",
    "Twitter 6\n",
    "Telegram 8\n",
    "\"\"\""
   ]
  },
  {
   "cell_type": "markdown",
   "metadata": {},
   "source": [
    "### Procesar y exportar la información."
   ]
  },
  {
   "cell_type": "code",
   "execution_count": 8,
   "metadata": {},
   "outputs": [],
   "source": [
    "#valor_csv = 0\n",
    "df_list = []\n",
    "for valor_csv in range(len(sources)):\n",
    "    # Se saca el 'content' porque no es necesario y estorba\n",
    "    df = pd.read_csv(\"csv/\"+sources[valor_csv]+\".csv\")\n",
    "    df = df.drop(columns=['content','autocontrol emocional', 'desarrollar y estimular a los demás', 'comunicacion asertiva'])\n",
    "    # Obtener IQR para determinar outliers\n",
    "    Q1 = df.quantile(0.25)\n",
    "    Q3 = df.quantile(0.75)\n",
    "    IQR = Q3 - Q1\n",
    "    # Agregar datos\n",
    "    fuente = [sources[valor_csv]] * 17\n",
    "    n_datos = [len(df)]*20\n",
    "    df_max = pd.DataFrame(zip(n_datos, fuente, df.columns, (df > (Q3 + 1.5 * IQR)).sum(), (df > (Q3 + 1.5 * IQR)).sum()/df.count(), (Q3+1.5*IQR), df.max()), columns=['n_datos','fuente','factor','outlierCount','outlier%','maxIQR','maximo'])\n",
    "    df_list.append(df_max)\n",
    "df_list = pd.concat(df_list)\n",
    "\n",
    "# Exportar\n",
    "df_list.to_excel(\"maximos.xlsx\")"
   ]
  },
  {
   "cell_type": "markdown",
   "metadata": {},
   "source": [
    "### Calculo de errores muestrales"
   ]
  },
  {
   "cell_type": "code",
   "execution_count": 7,
   "metadata": {},
   "outputs": [
    {
     "name": "stdout",
     "output_type": "stream",
     "text": [
      "emol1\t0.045564960194480295\n",
      "emol2\t0.011140414915034768\n",
      "reddit1\t0.06897181729489543\n",
      "reddit2\t0.013341562846706888\n",
      "youtube1\t0.025377442433728466\n",
      "youtube2\t0.007337861746370312\n",
      "twitter1\t0.027595408663113774\n",
      "twitter2\t0.008256573731937078\n",
      "telegram1\t0.017950326651734246\n",
      "telegram2\t0.00501499534453932\n"
     ]
    }
   ],
   "source": [
    "z_score = 1.96 # Z score con un alfa de 0.05, 2 colas\n",
    "# Si se desea usar una medida no paramétrica\n",
    "iqr_b = 0\n",
    "for i in range(len(sources)):\n",
    "    df_err = pd.read_csv(\"csv/\"+sources[i]+\".csv\")\n",
    "    df_err = df_err.drop(columns=['content','autocontrol emocional', 'desarrollar y estimular a los demás', 'comunicacion asertiva'])\n",
    "    if(iqr_b):\n",
    "        Q1 = df_err.quantile(0.25)\n",
    "        Q3 = df_err.quantile(0.75)\n",
    "        IQR = Q3 - Q1\n",
    "        std = IQR\n",
    "    else:\n",
    "        std = df_err.std()\n",
    "    sample_error = z_score * std.mean() / math.sqrt(len(df_err))\n",
    "    print(\"{0}\\t{1}\".format(sources[i], sample_error))"
   ]
  },
  {
   "cell_type": "markdown",
   "metadata": {},
   "source": [
    "##### Pruebas y obtención de gráficos"
   ]
  },
  {
   "cell_type": "code",
   "execution_count": 11,
   "metadata": {},
   "outputs": [
    {
     "data": {
      "text/plain": [
       "{'whiskers': [<matplotlib.lines.Line2D at 0x21debc837f0>,\n",
       "  <matplotlib.lines.Line2D at 0x21debc83b50>,\n",
       "  <matplotlib.lines.Line2D at 0x21debcf9fd0>,\n",
       "  <matplotlib.lines.Line2D at 0x21debceb370>,\n",
       "  <matplotlib.lines.Line2D at 0x21debce1820>,\n",
       "  <matplotlib.lines.Line2D at 0x21debce1b80>,\n",
       "  <matplotlib.lines.Line2D at 0x21debcca040>,\n",
       "  <matplotlib.lines.Line2D at 0x21debcca3a0>,\n",
       "  <matplotlib.lines.Line2D at 0x21debcff820>,\n",
       "  <matplotlib.lines.Line2D at 0x21debcffb80>,\n",
       "  <matplotlib.lines.Line2D at 0x21debc69040>,\n",
       "  <matplotlib.lines.Line2D at 0x21debc693a0>,\n",
       "  <matplotlib.lines.Line2D at 0x21debc5b820>,\n",
       "  <matplotlib.lines.Line2D at 0x21debc5bb80>,\n",
       "  <matplotlib.lines.Line2D at 0x21debc49040>,\n",
       "  <matplotlib.lines.Line2D at 0x21debc493a0>,\n",
       "  <matplotlib.lines.Line2D at 0x21debc01820>,\n",
       "  <matplotlib.lines.Line2D at 0x21debc01b80>,\n",
       "  <matplotlib.lines.Line2D at 0x21debc18070>,\n",
       "  <matplotlib.lines.Line2D at 0x21debc183d0>,\n",
       "  <matplotlib.lines.Line2D at 0x21debc23850>,\n",
       "  <matplotlib.lines.Line2D at 0x21debc23bb0>,\n",
       "  <matplotlib.lines.Line2D at 0x21debc38070>,\n",
       "  <matplotlib.lines.Line2D at 0x21debc383d0>,\n",
       "  <matplotlib.lines.Line2D at 0x21debd04850>,\n",
       "  <matplotlib.lines.Line2D at 0x21debd04bb0>,\n",
       "  <matplotlib.lines.Line2D at 0x21debd18070>,\n",
       "  <matplotlib.lines.Line2D at 0x21debd183d0>,\n",
       "  <matplotlib.lines.Line2D at 0x21debd25850>,\n",
       "  <matplotlib.lines.Line2D at 0x21debd25bb0>,\n",
       "  <matplotlib.lines.Line2D at 0x21debd3a070>,\n",
       "  <matplotlib.lines.Line2D at 0x21debd3a3d0>,\n",
       "  <matplotlib.lines.Line2D at 0x21debd45880>,\n",
       "  <matplotlib.lines.Line2D at 0x21debd45be0>,\n",
       "  <matplotlib.lines.Line2D at 0x21debd5a0a0>,\n",
       "  <matplotlib.lines.Line2D at 0x21debd5a400>,\n",
       "  <matplotlib.lines.Line2D at 0x21debd67880>,\n",
       "  <matplotlib.lines.Line2D at 0x21debd67be0>,\n",
       "  <matplotlib.lines.Line2D at 0x21debd7c0a0>,\n",
       "  <matplotlib.lines.Line2D at 0x21debd7c400>],\n",
       " 'caps': [<matplotlib.lines.Line2D at 0x21debc83eb0>,\n",
       "  <matplotlib.lines.Line2D at 0x21debcf9250>,\n",
       "  <matplotlib.lines.Line2D at 0x21debceb700>,\n",
       "  <matplotlib.lines.Line2D at 0x21debceba60>,\n",
       "  <matplotlib.lines.Line2D at 0x21debce1ee0>,\n",
       "  <matplotlib.lines.Line2D at 0x21debcd6280>,\n",
       "  <matplotlib.lines.Line2D at 0x21debcca700>,\n",
       "  <matplotlib.lines.Line2D at 0x21debccaa60>,\n",
       "  <matplotlib.lines.Line2D at 0x21debcffee0>,\n",
       "  <matplotlib.lines.Line2D at 0x21debc75280>,\n",
       "  <matplotlib.lines.Line2D at 0x21debc69700>,\n",
       "  <matplotlib.lines.Line2D at 0x21debc69a60>,\n",
       "  <matplotlib.lines.Line2D at 0x21debc5bee0>,\n",
       "  <matplotlib.lines.Line2D at 0x21debc56280>,\n",
       "  <matplotlib.lines.Line2D at 0x21debc49700>,\n",
       "  <matplotlib.lines.Line2D at 0x21debc49a60>,\n",
       "  <matplotlib.lines.Line2D at 0x21debc01ee0>,\n",
       "  <matplotlib.lines.Line2D at 0x21debc0c280>,\n",
       "  <matplotlib.lines.Line2D at 0x21debc18730>,\n",
       "  <matplotlib.lines.Line2D at 0x21debc18a90>,\n",
       "  <matplotlib.lines.Line2D at 0x21debc23f10>,\n",
       "  <matplotlib.lines.Line2D at 0x21debc2d2b0>,\n",
       "  <matplotlib.lines.Line2D at 0x21debc38730>,\n",
       "  <matplotlib.lines.Line2D at 0x21debc38a90>,\n",
       "  <matplotlib.lines.Line2D at 0x21debd04f10>,\n",
       "  <matplotlib.lines.Line2D at 0x21debd0f2b0>,\n",
       "  <matplotlib.lines.Line2D at 0x21debd18730>,\n",
       "  <matplotlib.lines.Line2D at 0x21debd18a90>,\n",
       "  <matplotlib.lines.Line2D at 0x21debd25f10>,\n",
       "  <matplotlib.lines.Line2D at 0x21debd2f2b0>,\n",
       "  <matplotlib.lines.Line2D at 0x21debd3a730>,\n",
       "  <matplotlib.lines.Line2D at 0x21debd3aa90>,\n",
       "  <matplotlib.lines.Line2D at 0x21debd45f40>,\n",
       "  <matplotlib.lines.Line2D at 0x21debd512e0>,\n",
       "  <matplotlib.lines.Line2D at 0x21debd5a760>,\n",
       "  <matplotlib.lines.Line2D at 0x21debd5aac0>,\n",
       "  <matplotlib.lines.Line2D at 0x21debd67f40>,\n",
       "  <matplotlib.lines.Line2D at 0x21debd702e0>,\n",
       "  <matplotlib.lines.Line2D at 0x21debd7c760>,\n",
       "  <matplotlib.lines.Line2D at 0x21debd7cac0>],\n",
       " 'boxes': [<matplotlib.lines.Line2D at 0x21debc83490>,\n",
       "  <matplotlib.lines.Line2D at 0x21debcf9c70>,\n",
       "  <matplotlib.lines.Line2D at 0x21debce14c0>,\n",
       "  <matplotlib.lines.Line2D at 0x21debcd6ca0>,\n",
       "  <matplotlib.lines.Line2D at 0x21debcff4c0>,\n",
       "  <matplotlib.lines.Line2D at 0x21debc75ca0>,\n",
       "  <matplotlib.lines.Line2D at 0x21debc5b4c0>,\n",
       "  <matplotlib.lines.Line2D at 0x21debc56ca0>,\n",
       "  <matplotlib.lines.Line2D at 0x21debc014c0>,\n",
       "  <matplotlib.lines.Line2D at 0x21debc0ccd0>,\n",
       "  <matplotlib.lines.Line2D at 0x21debc234f0>,\n",
       "  <matplotlib.lines.Line2D at 0x21debc2dcd0>,\n",
       "  <matplotlib.lines.Line2D at 0x21debd044f0>,\n",
       "  <matplotlib.lines.Line2D at 0x21debd0fcd0>,\n",
       "  <matplotlib.lines.Line2D at 0x21debd254f0>,\n",
       "  <matplotlib.lines.Line2D at 0x21debd2fcd0>,\n",
       "  <matplotlib.lines.Line2D at 0x21debd45520>,\n",
       "  <matplotlib.lines.Line2D at 0x21debd51d00>,\n",
       "  <matplotlib.lines.Line2D at 0x21debd67520>,\n",
       "  <matplotlib.lines.Line2D at 0x21debd70d00>],\n",
       " 'medians': [<matplotlib.lines.Line2D at 0x21debcf95b0>,\n",
       "  <matplotlib.lines.Line2D at 0x21debcebdc0>,\n",
       "  <matplotlib.lines.Line2D at 0x21debcd65e0>,\n",
       "  <matplotlib.lines.Line2D at 0x21debccadc0>,\n",
       "  <matplotlib.lines.Line2D at 0x21debc755e0>,\n",
       "  <matplotlib.lines.Line2D at 0x21debc69dc0>,\n",
       "  <matplotlib.lines.Line2D at 0x21debc565e0>,\n",
       "  <matplotlib.lines.Line2D at 0x21debc49dc0>,\n",
       "  <matplotlib.lines.Line2D at 0x21debc0c5e0>,\n",
       "  <matplotlib.lines.Line2D at 0x21debc18df0>,\n",
       "  <matplotlib.lines.Line2D at 0x21debc2d610>,\n",
       "  <matplotlib.lines.Line2D at 0x21debc38df0>,\n",
       "  <matplotlib.lines.Line2D at 0x21debd0f610>,\n",
       "  <matplotlib.lines.Line2D at 0x21debd18df0>,\n",
       "  <matplotlib.lines.Line2D at 0x21debd2f610>,\n",
       "  <matplotlib.lines.Line2D at 0x21debd3adf0>,\n",
       "  <matplotlib.lines.Line2D at 0x21debd51640>,\n",
       "  <matplotlib.lines.Line2D at 0x21debd5ae20>,\n",
       "  <matplotlib.lines.Line2D at 0x21debd70640>,\n",
       "  <matplotlib.lines.Line2D at 0x21debd7ce20>],\n",
       " 'fliers': [<matplotlib.lines.Line2D at 0x21debcf9910>,\n",
       "  <matplotlib.lines.Line2D at 0x21debce1160>,\n",
       "  <matplotlib.lines.Line2D at 0x21debcd6940>,\n",
       "  <matplotlib.lines.Line2D at 0x21debcff160>,\n",
       "  <matplotlib.lines.Line2D at 0x21debc75940>,\n",
       "  <matplotlib.lines.Line2D at 0x21debc5b160>,\n",
       "  <matplotlib.lines.Line2D at 0x21debc56940>,\n",
       "  <matplotlib.lines.Line2D at 0x21debc01160>,\n",
       "  <matplotlib.lines.Line2D at 0x21debc0c970>,\n",
       "  <matplotlib.lines.Line2D at 0x21debc23190>,\n",
       "  <matplotlib.lines.Line2D at 0x21debc2d970>,\n",
       "  <matplotlib.lines.Line2D at 0x21debd04190>,\n",
       "  <matplotlib.lines.Line2D at 0x21debd0f970>,\n",
       "  <matplotlib.lines.Line2D at 0x21debd25190>,\n",
       "  <matplotlib.lines.Line2D at 0x21debd2f970>,\n",
       "  <matplotlib.lines.Line2D at 0x21debd45190>,\n",
       "  <matplotlib.lines.Line2D at 0x21debd519a0>,\n",
       "  <matplotlib.lines.Line2D at 0x21debd671c0>,\n",
       "  <matplotlib.lines.Line2D at 0x21debd709a0>,\n",
       "  <matplotlib.lines.Line2D at 0x21debd881c0>],\n",
       " 'means': []}"
      ]
     },
     "execution_count": 11,
     "metadata": {},
     "output_type": "execute_result"
    },
    {
     "data": {
      "image/png": "[encoded data removed]",
      "text/plain": [
       "<Figure size 432x288 with 1 Axes>"
      ]
     },
     "metadata": {
      "needs_background": "light"
     },
     "output_type": "display_data"
    }
   ],
   "source": [
    "# TEST - Cargar datos y procesarlos - Leer comment de [0]\n",
    "valor_csv = 4\n",
    "df = pd.read_csv(\"csv/\"+sources[valor_csv]+\".csv\")\n",
    "df = df.drop(columns=['content'])\n",
    "plt.boxplot(df)"
   ]
  },
  {
   "cell_type": "code",
   "execution_count": null,
   "metadata": {},
   "outputs": [],
   "source": []
  },
  {
   "cell_type": "code",
   "execution_count": null,
   "metadata": {},
   "outputs": [],
   "source": []
  }
 ],
 "metadata": {
  "kernelspec": {
   "display_name": "Python 3",
   "language": "python",
   "name": "python3"
  }
 },
 "nbformat": 4,
 "nbformat_minor": 4
}
